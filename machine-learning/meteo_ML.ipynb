{
  "cells": [
    {
      "cell_type": "markdown",
      "source": [
        "#tinyMeteo - weather forecasting on microcontroller"
      ],
      "metadata": {
        "id": "_9GYDsjYYs7p"
      }
    },
    {
      "cell_type": "markdown",
      "metadata": {
        "id": "kO8zd5vVxLn5"
      },
      "source": [
        "## Collect Data \n",
        "\n",
        "Collect weather data for years 2009-2022 for the desired location from World Weather Online API in JSON format."
      ]
    },
    {
      "cell_type": "code",
      "source": [
        "!rm -r parsed_weather_data\n",
        "!rm weather_data.csv\n",
        "!rm weather_data_parsed.csv\n",
        "!rm final_data.csv"
      ],
      "metadata": {
        "id": "JRyQOgQ0AJ7E"
      },
      "execution_count": null,
      "outputs": []
    },
    {
      "cell_type": "code",
      "source": [
        "from google.colab import files \n",
        "files.upload() #upload a .json file with Kaggle API key and location coordinates or location name"
      ],
      "metadata": {
        "id": "YTz2PTM5x1AN"
      },
      "execution_count": null,
      "outputs": []
    },
    {
      "cell_type": "code",
      "source": [
        "import json\n",
        "\n",
        "# Read the uploaded files for the API key and location detials:\n",
        "with open('api.json') as f:\n",
        "    api_details = json.load(f)\n",
        "\n",
        "# Access the API key and location values\n",
        "API_KEY = api_details['key']\n",
        "LOCATION = api_details['location']"
      ],
      "metadata": {
        "id": "LJzDbtMg0a6N"
      },
      "execution_count": 4,
      "outputs": []
    },
    {
      "cell_type": "code",
      "source": [
        "!rm api.json # deletd .json file"
      ],
      "metadata": {
        "id": "6djq4s1OAZnT"
      },
      "execution_count": 6,
      "outputs": []
    },
    {
      "cell_type": "markdown",
      "metadata": {
        "id": "k35v500JxLoL"
      },
      "source": [
        "### API calls\n",
        "API only allows 30days of data per call. Loop through API calls for all necessary data and all .json files for each each month in a 'weather_data' directory."
      ]
    },
    {
      "cell_type": "code",
      "execution_count": 5,
      "metadata": {
        "id": "kbhcWSPcxLoL"
      },
      "outputs": [],
      "source": [
        "import os\n",
        "import requests\n",
        "import json\n",
        "from calendar import monthrange\n",
        "\n",
        "start_year = 2009\n",
        "end_year = 2022\n",
        "\n",
        "# path of raw data\n",
        "raw_data = 'weather_data'\n",
        "\n",
        "# Create the 'weather_data' directory if it does not already exist\n",
        "if not os.path.exists(raw_data):\n",
        "    os.makedirs(raw_data)\n",
        "\n",
        "#     # Loop through all years and months and create a file for each month\n",
        "for year in range(start_year, end_year+1):\n",
        "    for month in range(1, 13):\n",
        "        # Get the start and end dates for the month\n",
        "        _, num_days = monthrange(year, month) \n",
        "        start_date = f'{year}-{month:02d}-01'\n",
        "        end_date = f'{year}-{month:02d}-{num_days:02d}'\n",
        "        \n",
        "        # Construct the URL and make the request\n",
        "        url = f'https://api.worldweatheronline.com/premium/v1/past-weather.ashx?key={API_KEY}&q={LOCATION}&format=json&date={start_date}&enddate={end_date}'\n",
        "        response = requests.get(url)\n",
        "        data = response.json()\n",
        "        \n",
        "        # Get the filename and filepath for this month's data\n",
        "        filename = f'weather_{year}-{month:02d}.json'\n",
        "        filepath = os.path.join(raw_data, filename)\n",
        "        \n",
        "        # Check if file exists and create it if it does not\n",
        "        if not os.path.exists(filepath):\n",
        "            with open(filepath, 'w') as f:\n",
        "                json.dump(data, f)\n",
        "        else:\n",
        "            print(f'File {filename} already exists.')\n"
      ]
    },
    {
      "cell_type": "markdown",
      "metadata": {
        "id": "2T1ps7GOxLoM"
      },
      "source": [
        "### Filter JSON\n",
        "\n",
        "Filter all created .json files for the date, time, temperature, humidity, pressure, precipitation, and weather description keys and create new parsed .json files in a new directory called 'parsed_weather_data'."
      ]
    },
    {
      "cell_type": "code",
      "execution_count": 7,
      "metadata": {
        "id": "B0mZiYDgxLoN"
      },
      "outputs": [],
      "source": [
        "parsed_data_path = 'parsed_weather_data'\n",
        "\n",
        "# create the directory for the parsed weather data if it doesn't exist\n",
        "if not os.path.exists(parsed_data_path):\n",
        "    os.makedirs(parsed_data_path)\n",
        "\n",
        "# loop through all the JSON files in the weather_data directory\n",
        "for filename in os.listdir(raw_data):\n",
        "    if filename.endswith('.json'):\n",
        "        # extract the location and month from the filename\n",
        "        location_name = filename.split('_')[0]\n",
        "        month = filename.split('_')[1].split('.')[0]\n",
        "\n",
        "        # create a new dictionary to store the parsed data for this month\n",
        "        parsed_month_data = {}\n",
        "\n",
        "        # Open the file and load the JSON data\n",
        "        with open(f'{raw_data}/{filename}', 'r') as f:\n",
        "            file_contents = f.read()\n",
        "            parsed_data = json.loads(file_contents)\n",
        "\n",
        "        # loop through the hourly data for all the dates in the JSON file\n",
        "        for weather_data in parsed_data['data']['weather']:\n",
        "            # extract the date for this set of hourly data\n",
        "            date = weather_data['date']\n",
        "\n",
        "            # create a new list to store the parsed data for this day\n",
        "            parsed_day_data = []\n",
        "\n",
        "            # loop through the hourly data for this date\n",
        "            for hourly_data in weather_data['hourly']:\n",
        "                # extract the values we're interested in\n",
        "                tempC = hourly_data['tempC']\n",
        "                humidity = hourly_data['humidity']\n",
        "                pressure = hourly_data['pressure']\n",
        "                weatherCond = hourly_data['weatherDesc'][0]['value']\n",
        "                time = hourly_data['time']\n",
        "\n",
        "                # add the values to the parsed_day_data list\n",
        "                parsed_day_data.append({\n",
        "                    'time': time,\n",
        "                    'tempC': tempC,\n",
        "                    'humidity': humidity,\n",
        "                    'pressure': pressure,\n",
        "                    'weatherCond': weatherCond\n",
        "                })\n",
        "\n",
        "            # add the parsed day data to the parsed_month_data dictionary\n",
        "            parsed_month_data[date] = parsed_day_data\n",
        "\n",
        "        # write the parsed_month_data to a new JSON file\n",
        "        with open(f'{parsed_data_path}/{location_name}_{month}_parsed.json', 'w') as f:\n",
        "            json.dump(parsed_month_data, f)\n"
      ]
    },
    {
      "cell_type": "markdown",
      "metadata": {
        "id": "Jkc2B1h6xLoV"
      },
      "source": [
        "Combine all parsed .json files into a single .json file containing all data of interest."
      ]
    },
    {
      "cell_type": "code",
      "execution_count": 8,
      "metadata": {
        "id": "gukzS2luxLoa"
      },
      "outputs": [],
      "source": [
        "# create the combined data dictionary\n",
        "combined_data = {}\n",
        "\n",
        "# combined parsed json data path\n",
        "json_path = f'{parsed_data_path}/_combined_parsed_data.json'\n",
        "\n",
        "# loop over each file in the directory\n",
        "for filename in os.listdir(parsed_data_path):\n",
        "    if filename.endswith('.json'):\n",
        "        # load the contents of the file into a dictionary\n",
        "        with open(os.path.join(parsed_data_path, filename)) as f:\n",
        "            parsed_data = json.load(f)\n",
        "        \n",
        "        # loop over each date in the parsed data dictionary\n",
        "        for date in parsed_data.keys():\n",
        "            # if the date doesn't exist in the combined data dictionary, add it with an empty list as its value\n",
        "            if date not in combined_data:\n",
        "                combined_data[date] = []\n",
        "            \n",
        "            # add the weather data to the combined_data dictionary\n",
        "            combined_data[date].extend(parsed_data[date])\n",
        "\n",
        "# save the combined data to a new file\n",
        "with open(json_path, 'w') as f:\n",
        "    json.dump(combined_data, f)\n"
      ]
    },
    {
      "cell_type": "markdown",
      "metadata": {
        "id": "QOpHWHh2xLob"
      },
      "source": [
        "### Convert to CSV"
      ]
    },
    {
      "cell_type": "code",
      "execution_count": 9,
      "metadata": {
        "id": "ROUh223HxLoc"
      },
      "outputs": [],
      "source": [
        "import csv\n",
        "from datetime import datetime\n",
        "\n",
        "# the csv that contains all values\n",
        "csv_data_file = '_combined_parsed_data.csv'\n",
        "# the parsed csv in the desired final format\n",
        "final_file = \"final_data.csv\"\n",
        "\n",
        "if not os.path.isfile(f'{parsed_data_path}/{csv_data_file}'):\n",
        "    with open(f'{parsed_data_path}/{csv_data_file}', \"x\") as f:\n",
        "        pass\n",
        "\n",
        "# Write initial CSV file with headers and weather data\n",
        "with open(f'{parsed_data_path}/{csv_data_file}', 'w', newline='') as f:\n",
        "    writer = csv.writer(f)\n",
        "    writer.writerow(['date', 'time', 'tempC', 'humidity', 'pressure', 'weatherCond'])\n",
        "\n",
        "    with open(json_path, 'r') as f:\n",
        "        weather_data = json.load(f)\n",
        "\n",
        "    for date in weather_data:\n",
        "        for data in weather_data[date]:\n",
        "            writer.writerow([date, data['time'], data['tempC'], data['humidity'], data['pressure'], data['weatherCond']])\n",
        "\n",
        "# Read the initial CSV file, transform the date format, and write to the final file\n",
        "with open(f'{parsed_data_path}/{csv_data_file}', 'r') as infile, open(final_file, 'w', newline='') as outfile:\n",
        "    reader = csv.DictReader(infile)\n",
        "    fieldnames = ['date', 'year', 'month', 'day', 'time', 'tempC', 'humidity', 'pressure', 'weatherCond']\n",
        "    writer = csv.DictWriter(outfile, fieldnames=fieldnames)\n",
        "    writer.writeheader()\n",
        "\n",
        "    for row in reader:\n",
        "        date = datetime.strptime(row['date'], '%Y-%m-%d').strftime('%Y%m%d')\n",
        "        year, month, day = date[:4], date[4:6], date[6:]\n",
        "        writer.writerow({\n",
        "            'date': date,\n",
        "            'year': year,\n",
        "            'month': month,\n",
        "            'day': day,\n",
        "            'time': row['time'],\n",
        "            'tempC': row['tempC'],\n",
        "            'humidity': row['humidity'],\n",
        "            'pressure': row['pressure'],\n",
        "            'weatherCond': row['weatherCond']\n",
        "        })\n"
      ]
    },
    {
      "cell_type": "code",
      "execution_count": null,
      "metadata": {
        "id": "TMV7pff9xLoc"
      },
      "outputs": [],
      "source": [
        "# install pandas module\n",
        "!pip install pandas"
      ]
    },
    {
      "cell_type": "markdown",
      "source": [
        "## Preprocessing of data"
      ],
      "metadata": {
        "id": "TdH6SSQUQ23S"
      }
    },
    {
      "cell_type": "code",
      "execution_count": 90,
      "metadata": {
        "colab": {
          "base_uri": "https://localhost:8080/",
          "height": 204
        },
        "id": "FbT8O2FBxLoc",
        "outputId": "ebcb8e50-68c7-4a85-edba-159c51f9ee7b"
      },
      "outputs": [
        {
          "output_type": "execute_result",
          "data": {
            "text/plain": [
              "       date  year  month  day  time  tempC  humidity  pressure  \\\n",
              "0  20210601  2021      6    1     0     19        74      1011   \n",
              "1  20210601  2021      6    1   100     18        76      1011   \n",
              "2  20210601  2021      6    1   200     18        77      1011   \n",
              "3  20210601  2021      6    1   300     17        78      1011   \n",
              "4  20210601  2021      6    1   400     18        77      1010   \n",
              "\n",
              "            weatherCond  \n",
              "0  Patchy rain possible  \n",
              "1                Cloudy  \n",
              "2                Cloudy  \n",
              "3                Cloudy  \n",
              "4                Cloudy  "
            ],
            "text/html": [
              "\n",
              "  <div id=\"df-15b4892a-edb1-4c42-86b0-fd31753a8089\">\n",
              "    <div class=\"colab-df-container\">\n",
              "      <div>\n",
              "<style scoped>\n",
              "    .dataframe tbody tr th:only-of-type {\n",
              "        vertical-align: middle;\n",
              "    }\n",
              "\n",
              "    .dataframe tbody tr th {\n",
              "        vertical-align: top;\n",
              "    }\n",
              "\n",
              "    .dataframe thead th {\n",
              "        text-align: right;\n",
              "    }\n",
              "</style>\n",
              "<table border=\"1\" class=\"dataframe\">\n",
              "  <thead>\n",
              "    <tr style=\"text-align: right;\">\n",
              "      <th></th>\n",
              "      <th>date</th>\n",
              "      <th>year</th>\n",
              "      <th>month</th>\n",
              "      <th>day</th>\n",
              "      <th>time</th>\n",
              "      <th>tempC</th>\n",
              "      <th>humidity</th>\n",
              "      <th>pressure</th>\n",
              "      <th>weatherCond</th>\n",
              "    </tr>\n",
              "  </thead>\n",
              "  <tbody>\n",
              "    <tr>\n",
              "      <th>0</th>\n",
              "      <td>20210601</td>\n",
              "      <td>2021</td>\n",
              "      <td>6</td>\n",
              "      <td>1</td>\n",
              "      <td>0</td>\n",
              "      <td>19</td>\n",
              "      <td>74</td>\n",
              "      <td>1011</td>\n",
              "      <td>Patchy rain possible</td>\n",
              "    </tr>\n",
              "    <tr>\n",
              "      <th>1</th>\n",
              "      <td>20210601</td>\n",
              "      <td>2021</td>\n",
              "      <td>6</td>\n",
              "      <td>1</td>\n",
              "      <td>100</td>\n",
              "      <td>18</td>\n",
              "      <td>76</td>\n",
              "      <td>1011</td>\n",
              "      <td>Cloudy</td>\n",
              "    </tr>\n",
              "    <tr>\n",
              "      <th>2</th>\n",
              "      <td>20210601</td>\n",
              "      <td>2021</td>\n",
              "      <td>6</td>\n",
              "      <td>1</td>\n",
              "      <td>200</td>\n",
              "      <td>18</td>\n",
              "      <td>77</td>\n",
              "      <td>1011</td>\n",
              "      <td>Cloudy</td>\n",
              "    </tr>\n",
              "    <tr>\n",
              "      <th>3</th>\n",
              "      <td>20210601</td>\n",
              "      <td>2021</td>\n",
              "      <td>6</td>\n",
              "      <td>1</td>\n",
              "      <td>300</td>\n",
              "      <td>17</td>\n",
              "      <td>78</td>\n",
              "      <td>1011</td>\n",
              "      <td>Cloudy</td>\n",
              "    </tr>\n",
              "    <tr>\n",
              "      <th>4</th>\n",
              "      <td>20210601</td>\n",
              "      <td>2021</td>\n",
              "      <td>6</td>\n",
              "      <td>1</td>\n",
              "      <td>400</td>\n",
              "      <td>18</td>\n",
              "      <td>77</td>\n",
              "      <td>1010</td>\n",
              "      <td>Cloudy</td>\n",
              "    </tr>\n",
              "  </tbody>\n",
              "</table>\n",
              "</div>\n",
              "      <button class=\"colab-df-convert\" onclick=\"convertToInteractive('df-15b4892a-edb1-4c42-86b0-fd31753a8089')\"\n",
              "              title=\"Convert this dataframe to an interactive table.\"\n",
              "              style=\"display:none;\">\n",
              "        \n",
              "  <svg xmlns=\"http://www.w3.org/2000/svg\" height=\"24px\"viewBox=\"0 0 24 24\"\n",
              "       width=\"24px\">\n",
              "    <path d=\"M0 0h24v24H0V0z\" fill=\"none\"/>\n",
              "    <path d=\"M18.56 5.44l.94 2.06.94-2.06 2.06-.94-2.06-.94-.94-2.06-.94 2.06-2.06.94zm-11 1L8.5 8.5l.94-2.06 2.06-.94-2.06-.94L8.5 2.5l-.94 2.06-2.06.94zm10 10l.94 2.06.94-2.06 2.06-.94-2.06-.94-.94-2.06-.94 2.06-2.06.94z\"/><path d=\"M17.41 7.96l-1.37-1.37c-.4-.4-.92-.59-1.43-.59-.52 0-1.04.2-1.43.59L10.3 9.45l-7.72 7.72c-.78.78-.78 2.05 0 2.83L4 21.41c.39.39.9.59 1.41.59.51 0 1.02-.2 1.41-.59l7.78-7.78 2.81-2.81c.8-.78.8-2.07 0-2.86zM5.41 20L4 18.59l7.72-7.72 1.47 1.35L5.41 20z\"/>\n",
              "  </svg>\n",
              "      </button>\n",
              "      \n",
              "  <style>\n",
              "    .colab-df-container {\n",
              "      display:flex;\n",
              "      flex-wrap:wrap;\n",
              "      gap: 12px;\n",
              "    }\n",
              "\n",
              "    .colab-df-convert {\n",
              "      background-color: #E8F0FE;\n",
              "      border: none;\n",
              "      border-radius: 50%;\n",
              "      cursor: pointer;\n",
              "      display: none;\n",
              "      fill: #1967D2;\n",
              "      height: 32px;\n",
              "      padding: 0 0 0 0;\n",
              "      width: 32px;\n",
              "    }\n",
              "\n",
              "    .colab-df-convert:hover {\n",
              "      background-color: #E2EBFA;\n",
              "      box-shadow: 0px 1px 2px rgba(60, 64, 67, 0.3), 0px 1px 3px 1px rgba(60, 64, 67, 0.15);\n",
              "      fill: #174EA6;\n",
              "    }\n",
              "\n",
              "    [theme=dark] .colab-df-convert {\n",
              "      background-color: #3B4455;\n",
              "      fill: #D2E3FC;\n",
              "    }\n",
              "\n",
              "    [theme=dark] .colab-df-convert:hover {\n",
              "      background-color: #434B5C;\n",
              "      box-shadow: 0px 1px 3px 1px rgba(0, 0, 0, 0.15);\n",
              "      filter: drop-shadow(0px 1px 2px rgba(0, 0, 0, 0.3));\n",
              "      fill: #FFFFFF;\n",
              "    }\n",
              "  </style>\n",
              "\n",
              "      <script>\n",
              "        const buttonEl =\n",
              "          document.querySelector('#df-15b4892a-edb1-4c42-86b0-fd31753a8089 button.colab-df-convert');\n",
              "        buttonEl.style.display =\n",
              "          google.colab.kernel.accessAllowed ? 'block' : 'none';\n",
              "\n",
              "        async function convertToInteractive(key) {\n",
              "          const element = document.querySelector('#df-15b4892a-edb1-4c42-86b0-fd31753a8089');\n",
              "          const dataTable =\n",
              "            await google.colab.kernel.invokeFunction('convertToInteractive',\n",
              "                                                     [key], {});\n",
              "          if (!dataTable) return;\n",
              "\n",
              "          const docLinkHtml = 'Like what you see? Visit the ' +\n",
              "            '<a target=\"_blank\" href=https://colab.research.google.com/notebooks/data_table.ipynb>data table notebook</a>'\n",
              "            + ' to learn more about interactive tables.';\n",
              "          element.innerHTML = '';\n",
              "          dataTable['output_type'] = 'display_data';\n",
              "          await google.colab.output.renderOutput(dataTable, element);\n",
              "          const docLink = document.createElement('div');\n",
              "          docLink.innerHTML = docLinkHtml;\n",
              "          element.appendChild(docLink);\n",
              "        }\n",
              "      </script>\n",
              "    </div>\n",
              "  </div>\n",
              "  "
            ]
          },
          "metadata": {},
          "execution_count": 90
        }
      ],
      "source": [
        "import pandas as pd\n",
        "\n",
        "# read csv file\n",
        "df = pd.read_csv('final_data.csv', sep=',') \n",
        "#show the first five rows\n",
        "df.head()"
      ]
    },
    {
      "cell_type": "code",
      "source": [
        "# select only the values we need\\\n",
        "df = df[['weatherCond', 'tempC', 'humidity','pressure']]"
      ],
      "metadata": {
        "id": "nxBlpdfNNUdZ"
      },
      "execution_count": 91,
      "outputs": []
    },
    {
      "cell_type": "code",
      "execution_count": 82,
      "metadata": {
        "colab": {
          "base_uri": "https://localhost:8080/"
        },
        "id": "ZM5UIdOQxLof",
        "outputId": "2fbc9c95-7ca2-4854-8ec4-e1343eb9e86a"
      },
      "outputs": [
        {
          "output_type": "execute_result",
          "data": {
            "text/plain": [
              "(122712, 4)"
            ]
          },
          "metadata": {},
          "execution_count": 82
        }
      ],
      "source": [
        "df.shape"
      ]
    },
    {
      "cell_type": "code",
      "execution_count": 84,
      "metadata": {
        "colab": {
          "base_uri": "https://localhost:8080/",
          "height": 297
        },
        "id": "ri76Qy1_xLof",
        "outputId": "e7e3c58a-6dff-48a2-ee58-4d7b5dd75f6f"
      },
      "outputs": [
        {
          "output_type": "execute_result",
          "data": {
            "text/plain": [
              "               tempC       humidity       pressure\n",
              "count  122712.000000  122712.000000  122712.000000\n",
              "mean       18.251336      62.129254    1014.871969\n",
              "std         7.520944      14.903668       6.115303\n",
              "min        -2.000000      18.000000     984.000000\n",
              "25%        12.000000      51.000000    1011.000000\n",
              "50%        18.000000      62.000000    1014.000000\n",
              "75%        24.000000      74.000000    1019.000000\n",
              "max        43.000000      99.000000    1039.000000"
            ],
            "text/html": [
              "\n",
              "  <div id=\"df-1f08651c-a9c6-4b90-af34-dbc65eb27597\">\n",
              "    <div class=\"colab-df-container\">\n",
              "      <div>\n",
              "<style scoped>\n",
              "    .dataframe tbody tr th:only-of-type {\n",
              "        vertical-align: middle;\n",
              "    }\n",
              "\n",
              "    .dataframe tbody tr th {\n",
              "        vertical-align: top;\n",
              "    }\n",
              "\n",
              "    .dataframe thead th {\n",
              "        text-align: right;\n",
              "    }\n",
              "</style>\n",
              "<table border=\"1\" class=\"dataframe\">\n",
              "  <thead>\n",
              "    <tr style=\"text-align: right;\">\n",
              "      <th></th>\n",
              "      <th>tempC</th>\n",
              "      <th>humidity</th>\n",
              "      <th>pressure</th>\n",
              "    </tr>\n",
              "  </thead>\n",
              "  <tbody>\n",
              "    <tr>\n",
              "      <th>count</th>\n",
              "      <td>122712.000000</td>\n",
              "      <td>122712.000000</td>\n",
              "      <td>122712.000000</td>\n",
              "    </tr>\n",
              "    <tr>\n",
              "      <th>mean</th>\n",
              "      <td>18.251336</td>\n",
              "      <td>62.129254</td>\n",
              "      <td>1014.871969</td>\n",
              "    </tr>\n",
              "    <tr>\n",
              "      <th>std</th>\n",
              "      <td>7.520944</td>\n",
              "      <td>14.903668</td>\n",
              "      <td>6.115303</td>\n",
              "    </tr>\n",
              "    <tr>\n",
              "      <th>min</th>\n",
              "      <td>-2.000000</td>\n",
              "      <td>18.000000</td>\n",
              "      <td>984.000000</td>\n",
              "    </tr>\n",
              "    <tr>\n",
              "      <th>25%</th>\n",
              "      <td>12.000000</td>\n",
              "      <td>51.000000</td>\n",
              "      <td>1011.000000</td>\n",
              "    </tr>\n",
              "    <tr>\n",
              "      <th>50%</th>\n",
              "      <td>18.000000</td>\n",
              "      <td>62.000000</td>\n",
              "      <td>1014.000000</td>\n",
              "    </tr>\n",
              "    <tr>\n",
              "      <th>75%</th>\n",
              "      <td>24.000000</td>\n",
              "      <td>74.000000</td>\n",
              "      <td>1019.000000</td>\n",
              "    </tr>\n",
              "    <tr>\n",
              "      <th>max</th>\n",
              "      <td>43.000000</td>\n",
              "      <td>99.000000</td>\n",
              "      <td>1039.000000</td>\n",
              "    </tr>\n",
              "  </tbody>\n",
              "</table>\n",
              "</div>\n",
              "      <button class=\"colab-df-convert\" onclick=\"convertToInteractive('df-1f08651c-a9c6-4b90-af34-dbc65eb27597')\"\n",
              "              title=\"Convert this dataframe to an interactive table.\"\n",
              "              style=\"display:none;\">\n",
              "        \n",
              "  <svg xmlns=\"http://www.w3.org/2000/svg\" height=\"24px\"viewBox=\"0 0 24 24\"\n",
              "       width=\"24px\">\n",
              "    <path d=\"M0 0h24v24H0V0z\" fill=\"none\"/>\n",
              "    <path d=\"M18.56 5.44l.94 2.06.94-2.06 2.06-.94-2.06-.94-.94-2.06-.94 2.06-2.06.94zm-11 1L8.5 8.5l.94-2.06 2.06-.94-2.06-.94L8.5 2.5l-.94 2.06-2.06.94zm10 10l.94 2.06.94-2.06 2.06-.94-2.06-.94-.94-2.06-.94 2.06-2.06.94z\"/><path d=\"M17.41 7.96l-1.37-1.37c-.4-.4-.92-.59-1.43-.59-.52 0-1.04.2-1.43.59L10.3 9.45l-7.72 7.72c-.78.78-.78 2.05 0 2.83L4 21.41c.39.39.9.59 1.41.59.51 0 1.02-.2 1.41-.59l7.78-7.78 2.81-2.81c.8-.78.8-2.07 0-2.86zM5.41 20L4 18.59l7.72-7.72 1.47 1.35L5.41 20z\"/>\n",
              "  </svg>\n",
              "      </button>\n",
              "      \n",
              "  <style>\n",
              "    .colab-df-container {\n",
              "      display:flex;\n",
              "      flex-wrap:wrap;\n",
              "      gap: 12px;\n",
              "    }\n",
              "\n",
              "    .colab-df-convert {\n",
              "      background-color: #E8F0FE;\n",
              "      border: none;\n",
              "      border-radius: 50%;\n",
              "      cursor: pointer;\n",
              "      display: none;\n",
              "      fill: #1967D2;\n",
              "      height: 32px;\n",
              "      padding: 0 0 0 0;\n",
              "      width: 32px;\n",
              "    }\n",
              "\n",
              "    .colab-df-convert:hover {\n",
              "      background-color: #E2EBFA;\n",
              "      box-shadow: 0px 1px 2px rgba(60, 64, 67, 0.3), 0px 1px 3px 1px rgba(60, 64, 67, 0.15);\n",
              "      fill: #174EA6;\n",
              "    }\n",
              "\n",
              "    [theme=dark] .colab-df-convert {\n",
              "      background-color: #3B4455;\n",
              "      fill: #D2E3FC;\n",
              "    }\n",
              "\n",
              "    [theme=dark] .colab-df-convert:hover {\n",
              "      background-color: #434B5C;\n",
              "      box-shadow: 0px 1px 3px 1px rgba(0, 0, 0, 0.15);\n",
              "      filter: drop-shadow(0px 1px 2px rgba(0, 0, 0, 0.3));\n",
              "      fill: #FFFFFF;\n",
              "    }\n",
              "  </style>\n",
              "\n",
              "      <script>\n",
              "        const buttonEl =\n",
              "          document.querySelector('#df-1f08651c-a9c6-4b90-af34-dbc65eb27597 button.colab-df-convert');\n",
              "        buttonEl.style.display =\n",
              "          google.colab.kernel.accessAllowed ? 'block' : 'none';\n",
              "\n",
              "        async function convertToInteractive(key) {\n",
              "          const element = document.querySelector('#df-1f08651c-a9c6-4b90-af34-dbc65eb27597');\n",
              "          const dataTable =\n",
              "            await google.colab.kernel.invokeFunction('convertToInteractive',\n",
              "                                                     [key], {});\n",
              "          if (!dataTable) return;\n",
              "\n",
              "          const docLinkHtml = 'Like what you see? Visit the ' +\n",
              "            '<a target=\"_blank\" href=https://colab.research.google.com/notebooks/data_table.ipynb>data table notebook</a>'\n",
              "            + ' to learn more about interactive tables.';\n",
              "          element.innerHTML = '';\n",
              "          dataTable['output_type'] = 'display_data';\n",
              "          await google.colab.output.renderOutput(dataTable, element);\n",
              "          const docLink = document.createElement('div');\n",
              "          docLink.innerHTML = docLinkHtml;\n",
              "          element.appendChild(docLink);\n",
              "        }\n",
              "      </script>\n",
              "    </div>\n",
              "  </div>\n",
              "  "
            ]
          },
          "metadata": {},
          "execution_count": 84
        }
      ],
      "source": [
        "df.describe()"
      ]
    },
    {
      "cell_type": "code",
      "execution_count": 85,
      "metadata": {
        "colab": {
          "base_uri": "https://localhost:8080/"
        },
        "id": "kLoE4ZdxxLog",
        "outputId": "7cc5c382-954c-4bce-897f-158e7a3d9c8b"
      },
      "outputs": [
        {
          "output_type": "execute_result",
          "data": {
            "text/plain": [
              "array([['Patchy rain possible', 19, 74, 1011],\n",
              "       ['Cloudy', 18, 76, 1011],\n",
              "       ['Cloudy', 18, 77, 1011],\n",
              "       ...,\n",
              "       ['Clear', 9, 46, 1021],\n",
              "       ['Clear', 10, 49, 1021],\n",
              "       ['Partly cloudy', 9, 53, 1022]], dtype=object)"
            ]
          },
          "metadata": {},
          "execution_count": 85
        }
      ],
      "source": [
        "df.values"
      ]
    },
    {
      "cell_type": "code",
      "execution_count": 86,
      "metadata": {
        "colab": {
          "base_uri": "https://localhost:8080/"
        },
        "id": "Gbnzs66qxLog",
        "outputId": "eb47b98e-dd64-46da-89d6-1330d1aac296"
      },
      "outputs": [
        {
          "output_type": "execute_result",
          "data": {
            "text/plain": [
              "<bound method DataFrame.info of                  weatherCond  tempC  humidity  pressure\n",
              "0       Patchy rain possible     19        74      1011\n",
              "1                     Cloudy     18        76      1011\n",
              "2                     Cloudy     18        77      1011\n",
              "3                     Cloudy     17        78      1011\n",
              "4                     Cloudy     18        77      1010\n",
              "...                      ...    ...       ...       ...\n",
              "122707                 Clear     11        40      1020\n",
              "122708                 Clear     10        43      1021\n",
              "122709                 Clear      9        46      1021\n",
              "122710                 Clear     10        49      1021\n",
              "122711         Partly cloudy      9        53      1022\n",
              "\n",
              "[122712 rows x 4 columns]>"
            ]
          },
          "metadata": {},
          "execution_count": 86
        }
      ],
      "source": [
        "df.info"
      ]
    },
    {
      "cell_type": "markdown",
      "source": [
        "### Assign Labels\n",
        "Assign numbers to weather description values"
      ],
      "metadata": {
        "id": "xIy_H-4uBXVk"
      }
    },
    {
      "cell_type": "code",
      "source": [
        "# Assign an integer value to each weather description in the \"weather description\" column\n",
        "df = df.dropna()  # remove empty rows\n",
        "\n",
        "# Convert each category into an integer\n",
        "for i in df.index:\n",
        "    if df.loc[i, \"weatherCond\"] == 'Clear':\n",
        "        df.loc[i, \"weatherCond\"] = 0\n",
        "    elif df.loc[i, \"weatherCond\"] == 'Sunny':\n",
        "        df.loc[i, \"weatherCond\"] = 0\n",
        "    elif df.loc[i, \"weatherCond\"] == 'Partly cloudy':\n",
        "        df.loc[i, \"weatherCond\"] = 1\n",
        "    elif df.loc[i, \"weatherCond\"] == 'Cloudy':\n",
        "        df.loc[i, \"weatherCond\"] = 1\n",
        "    elif df.loc[i, \"weatherCond\"] == 'Overcast':\n",
        "        df.loc[i, \"weatherCond\"] = 1\n",
        "    elif df.loc[i, \"weatherCond\"] == 'Moderate rain at times':\n",
        "        df.loc[i, \"weatherCond\"] = 2\n",
        "    elif df.loc[i, \"weatherCond\"] == 'Patchy rain possible':\n",
        "        df.loc[i, \"weatherCond\"] = 2\n",
        "    elif df.loc[i, \"weatherCond\"] == 'Moderate or heavy rain shower':\n",
        "        df.loc[i, \"weatherCond\"] = 3\n",
        "    elif df.loc[i, \"weatherCond\"] == 'Heavy rain at times':\n",
        "        df.loc[i, \"weatherCond\"] = 3\n",
        "    elif df.loc[i, \"weatherCond\"] == 'Light freezing rain':\n",
        "        df.loc[i, \"weatherCond\"] = 4\n",
        "    elif df.loc[i, \"weatherCond\"] == 'Patchy moderate snow':\n",
        "        df.loc[i, \"weatherCond\"] = 4\n",
        "    else:\n",
        "        df = df.drop([i])  # we don't consider other classes, so we drop them\n",
        "\n",
        "# Cast weatherCond column from string to int\n",
        "df[\"weatherCond\"] = df[\"weatherCond\"].astype(int)\n"
      ],
      "metadata": {
        "id": "HbBMRqaqBqCd"
      },
      "execution_count": 92,
      "outputs": []
    },
    {
      "cell_type": "code",
      "source": [
        "unique_classes = np.unique(df['weatherCond'])\n",
        "print(unique_classes)\n"
      ],
      "metadata": {
        "colab": {
          "base_uri": "https://localhost:8080/"
        },
        "id": "7JTMq2pOYjXp",
        "outputId": "b64a6925-2f72-48d8-944d-9361a71a5797"
      },
      "execution_count": 88,
      "outputs": [
        {
          "output_type": "stream",
          "name": "stdout",
          "text": [
            "[0 1 2 3 4]\n"
          ]
        }
      ]
    },
    {
      "cell_type": "markdown",
      "source": [
        "### Case1: Decision Tree Classifier"
      ],
      "metadata": {
        "id": "DRSXmPJzmLBl"
      }
    },
    {
      "cell_type": "code",
      "source": [
        "from sklearn.metrics import accuracy_score\n",
        "from sklearn.tree import DecisionTreeClassifier\n",
        "from sklearn.model_selection import train_test_split\n",
        "\n",
        "X = df.drop(columns=['weatherCond'])\n",
        "y = df['weatherCond']\n",
        "X_train, X_test, y_train, y_test = train_test_split(X, y, test_size=0.2)\n",
        "\n",
        "model = DecisionTreeClassifier()\n",
        "model.fit(X_train,y_train)\n",
        "predictions = model.predict(X_test)\n",
        "\n",
        "score = accuracy_score(y_test, predictions)\n",
        "score"
      ],
      "metadata": {
        "colab": {
          "base_uri": "https://localhost:8080/"
        },
        "id": "8xWK22c2j6W_",
        "outputId": "51feb26a-6d65-421d-f90f-6fecfc1ea864"
      },
      "execution_count": null,
      "outputs": [
        {
          "output_type": "execute_result",
          "data": {
            "text/plain": [
              "0.6907875972782463"
            ]
          },
          "metadata": {},
          "execution_count": 94
        }
      ]
    },
    {
      "cell_type": "markdown",
      "source": [
        "### Case 2: Dense Neural Network"
      ],
      "metadata": {
        "id": "3HmHyiN_mYtz"
      }
    },
    {
      "cell_type": "markdown",
      "source": [
        "### Split Data"
      ],
      "metadata": {
        "id": "-azL9ieKREh8"
      }
    },
    {
      "cell_type": "code",
      "source": [
        "from keras.utils import to_categorical\n",
        "\n",
        "labels = to_categorical(df.pop('weatherCond')) #Create classes from the labels\n",
        "\n",
        "import numpy as np #import numpy library, used for arithmetic\n",
        "\n",
        "features = np.array(df) #convert our dataframe into ndarray, only array type that neural network takes as input"
      ],
      "metadata": {
        "id": "s56KeVdABwMr"
      },
      "execution_count": 93,
      "outputs": []
    },
    {
      "cell_type": "code",
      "source": [
        "features"
      ],
      "metadata": {
        "colab": {
          "base_uri": "https://localhost:8080/"
        },
        "id": "JjhSKaN9KWo6",
        "outputId": "557200bc-5d46-429f-a980-e660505163d5"
      },
      "execution_count": 94,
      "outputs": [
        {
          "output_type": "execute_result",
          "data": {
            "text/plain": [
              "array([[  19,   74, 1011],\n",
              "       [  18,   76, 1011],\n",
              "       [  18,   77, 1011],\n",
              "       ...,\n",
              "       [   9,   46, 1021],\n",
              "       [  10,   49, 1021],\n",
              "       [   9,   53, 1022]])"
            ]
          },
          "metadata": {},
          "execution_count": 94
        }
      ]
    },
    {
      "cell_type": "code",
      "source": [
        "labels"
      ],
      "metadata": {
        "colab": {
          "base_uri": "https://localhost:8080/"
        },
        "id": "W0wv2qevOZtV",
        "outputId": "3c96136f-c246-4487-bf77-06a4e19df20f"
      },
      "execution_count": 78,
      "outputs": [
        {
          "output_type": "execute_result",
          "data": {
            "text/plain": [
              "array([2, 1, 1, ..., 0, 0, 1])"
            ]
          },
          "metadata": {},
          "execution_count": 78
        }
      ]
    },
    {
      "cell_type": "code",
      "source": [
        "from sklearn.model_selection import train_test_split\n",
        "\n",
        "#Split the dataset into training set 80% and test set 20%\n",
        "train_features, test_features, train_labels, test_labels = train_test_split(features, labels, test_size=0.20, shuffle=True)\n",
        "\n"
      ],
      "metadata": {
        "id": "2NPXOJjNB3Ry"
      },
      "execution_count": 95,
      "outputs": []
    },
    {
      "cell_type": "markdown",
      "source": [
        "## The Model"
      ],
      "metadata": {
        "id": "Sd_N1tlJRRE_"
      }
    },
    {
      "cell_type": "markdown",
      "source": [
        "The model used is a densely connected neural network (DNN). The activation function used is ReLU (rectified linear unit), and the output layer uses the softmax activation function. The dropout regularization technique is applied with a rate of 0.4, which randomly drops connections between neurons to prevent overfitting.\n",
        "\n",
        "The model is compiled using the Adam optimizer, categorical cross-entropy loss function, and accuracy metric. The summary method is called to display the model's architecture and parameters."
      ],
      "metadata": {
        "id": "pwBOcVxKT8On"
      }
    },
    {
      "cell_type": "code",
      "source": [
        "import tensorflow as tf\n",
        "from tensorflow.keras import regularizers\n",
        "from keras.utils import to_categorical\n",
        "\n",
        "# Parameters\n",
        "NB_classes = 5 # Number of outputs\n",
        "NB_neurones = 30 # Main number of neurons\n",
        "NB_features = 3 # Number of inputs\n",
        "activation_func = tf.keras.activations.relu # Activation function used\n",
        "\n",
        "#Densly connected neural network\n",
        "model = tf.keras.Sequential([\n",
        "                             tf.keras.layers.Dense(NB_neurones,activation=activation_func,input_shape=(NB_features,)),\n",
        "                             tf.keras.layers.Dense(NB_neurones,activation=activation_func),\n",
        "                             tf.keras.layers.Dense(NB_neurones,activation=activation_func),\n",
        "                             tf.keras.layers.Dense(NB_neurones,activation=activation_func),\n",
        "                             tf.keras.layers.Dense(NB_neurones,activation=activation_func),\n",
        "                             tf.keras.layers.Dense(NB_neurones,activation=activation_func),\n",
        "                             tf.keras.layers.Dense(NB_neurones,activation=activation_func),\n",
        "                             tf.keras.layers.Dense(NB_neurones,activation=activation_func),\n",
        "                             tf.keras.layers.Dense(NB_neurones,activation=activation_func),\n",
        "                             tf.keras.layers.Dense(NB_neurones,activation=activation_func),\n",
        "                             tf.keras.layers.Dense(NB_neurones,activation=activation_func),\n",
        "                             tf.keras.layers.Dense(NB_neurones,activation=activation_func),\n",
        "                             tf.keras.layers.Dense(NB_neurones,activation=activation_func),\n",
        "                             tf.keras.layers.Dense(NB_neurones,activation=activation_func),\n",
        "                             tf.keras.layers.Dense(NB_neurones,activation=activation_func),\n",
        "                             tf.keras.layers.Dense(NB_neurones,activation=activation_func),\n",
        "                             tf.keras.layers.Dense(NB_neurones,activation=activation_func),\n",
        "                             tf.keras.layers.Dense(NB_neurones,activation=activation_func),\n",
        "                             tf.keras.layers.Dense(NB_neurones,activation=activation_func),\n",
        "                             tf.keras.layers.Dense(NB_neurones,activation=activation_func),\n",
        "                             tf.keras.layers.Dense(NB_neurones,activation=activation_func),\n",
        "                             tf.keras.layers.Dense(NB_neurones,activation=activation_func),\n",
        "                             tf.keras.layers.Dense(NB_neurones,activation=activation_func),\n",
        "                             tf.keras.layers.Dense(NB_neurones,activation=activation_func),\n",
        "                             tf.keras.layers.Dense(NB_neurones,activation=activation_func),\n",
        "                             tf.keras.layers.Dropout(0.4), #drop randomly some connection to avoid overfiting\n",
        "                             #softmax will output an array containing probabilities of each classes\n",
        "                             #the highest one is the predicted class\n",
        "                             tf.keras.layers.Dense(NB_classes,activation=tf.keras.activations.softmax)\n",
        "])\n",
        "\n",
        "model.compile(optimizer=\"adam\",loss=tf.keras.losses.categorical_crossentropy, metrics=['accuracy']) #compile the model\n",
        "\n",
        "model.summary() #to see the paramter of our model"
      ],
      "metadata": {
        "colab": {
          "base_uri": "https://localhost:8080/"
        },
        "id": "QCe4eefqOlQQ",
        "outputId": "cde59dcf-163d-4dc6-919e-5aafc29da30c"
      },
      "execution_count": 96,
      "outputs": [
        {
          "output_type": "stream",
          "name": "stdout",
          "text": [
            "Model: \"sequential_6\"\n",
            "_________________________________________________________________\n",
            " Layer (type)                Output Shape              Param #   \n",
            "=================================================================\n",
            " dense_143 (Dense)           (None, 30)                120       \n",
            "                                                                 \n",
            " dense_144 (Dense)           (None, 30)                930       \n",
            "                                                                 \n",
            " dense_145 (Dense)           (None, 30)                930       \n",
            "                                                                 \n",
            " dense_146 (Dense)           (None, 30)                930       \n",
            "                                                                 \n",
            " dense_147 (Dense)           (None, 30)                930       \n",
            "                                                                 \n",
            " dense_148 (Dense)           (None, 30)                930       \n",
            "                                                                 \n",
            " dense_149 (Dense)           (None, 30)                930       \n",
            "                                                                 \n",
            " dense_150 (Dense)           (None, 30)                930       \n",
            "                                                                 \n",
            " dense_151 (Dense)           (None, 30)                930       \n",
            "                                                                 \n",
            " dense_152 (Dense)           (None, 30)                930       \n",
            "                                                                 \n",
            " dense_153 (Dense)           (None, 30)                930       \n",
            "                                                                 \n",
            " dense_154 (Dense)           (None, 30)                930       \n",
            "                                                                 \n",
            " dense_155 (Dense)           (None, 30)                930       \n",
            "                                                                 \n",
            " dense_156 (Dense)           (None, 30)                930       \n",
            "                                                                 \n",
            " dense_157 (Dense)           (None, 30)                930       \n",
            "                                                                 \n",
            " dense_158 (Dense)           (None, 30)                930       \n",
            "                                                                 \n",
            " dense_159 (Dense)           (None, 30)                930       \n",
            "                                                                 \n",
            " dense_160 (Dense)           (None, 30)                930       \n",
            "                                                                 \n",
            " dense_161 (Dense)           (None, 30)                930       \n",
            "                                                                 \n",
            " dense_162 (Dense)           (None, 30)                930       \n",
            "                                                                 \n",
            " dense_163 (Dense)           (None, 30)                930       \n",
            "                                                                 \n",
            " dense_164 (Dense)           (None, 30)                930       \n",
            "                                                                 \n",
            " dense_165 (Dense)           (None, 30)                930       \n",
            "                                                                 \n",
            " dense_166 (Dense)           (None, 30)                930       \n",
            "                                                                 \n",
            " dense_167 (Dense)           (None, 30)                930       \n",
            "                                                                 \n",
            " dropout_6 (Dropout)         (None, 30)                0         \n",
            "                                                                 \n",
            " dense_168 (Dense)           (None, 5)                 155       \n",
            "                                                                 \n",
            "=================================================================\n",
            "Total params: 22,595\n",
            "Trainable params: 22,595\n",
            "Non-trainable params: 0\n",
            "_________________________________________________________________\n"
          ]
        }
      ]
    },
    {
      "cell_type": "markdown",
      "source": [
        "## Train the Model"
      ],
      "metadata": {
        "id": "LXL6ZtwFRZQY"
      }
    },
    {
      "cell_type": "code",
      "source": [
        "model.fit(x=train_features,\n",
        "          y=train_labels,\n",
        "          epochs=20,\n",
        "          validation_data=(test_features,test_labels),\n",
        "          verbose=1,\n",
        "          shuffle=True)"
      ],
      "metadata": {
        "colab": {
          "base_uri": "https://localhost:8080/"
        },
        "id": "GYzjXdb2Oy02",
        "outputId": "a096e5ba-1107-4e1e-cb28-c3c065c1ef9b"
      },
      "execution_count": 97,
      "outputs": [
        {
          "output_type": "stream",
          "name": "stdout",
          "text": [
            "Epoch 1/20\n",
            "3068/3068 [==============================] - 31s 9ms/step - loss: 0.8021 - accuracy: 0.6786 - val_loss: 0.7428 - val_accuracy: 0.6991\n",
            "Epoch 2/20\n",
            "3068/3068 [==============================] - 24s 8ms/step - loss: 0.7617 - accuracy: 0.6903 - val_loss: 0.7239 - val_accuracy: 0.7042\n",
            "Epoch 3/20\n",
            "3068/3068 [==============================] - 23s 7ms/step - loss: 0.7548 - accuracy: 0.6923 - val_loss: 0.7249 - val_accuracy: 0.6991\n",
            "Epoch 4/20\n",
            "3068/3068 [==============================] - 23s 7ms/step - loss: 0.7490 - accuracy: 0.6929 - val_loss: 0.7204 - val_accuracy: 0.7032\n",
            "Epoch 5/20\n",
            "3068/3068 [==============================] - 24s 8ms/step - loss: 0.7468 - accuracy: 0.6930 - val_loss: 0.7206 - val_accuracy: 0.7029\n",
            "Epoch 6/20\n",
            "3068/3068 [==============================] - 22s 7ms/step - loss: 0.7458 - accuracy: 0.6940 - val_loss: 0.7256 - val_accuracy: 0.7047\n",
            "Epoch 7/20\n",
            "3068/3068 [==============================] - 22s 7ms/step - loss: 0.7441 - accuracy: 0.6932 - val_loss: 0.7162 - val_accuracy: 0.7041\n",
            "Epoch 8/20\n",
            "3068/3068 [==============================] - 20s 7ms/step - loss: 0.7428 - accuracy: 0.6924 - val_loss: 0.7167 - val_accuracy: 0.7028\n",
            "Epoch 9/20\n",
            "3068/3068 [==============================] - 23s 7ms/step - loss: 0.7436 - accuracy: 0.6918 - val_loss: 0.7145 - val_accuracy: 0.7040\n",
            "Epoch 10/20\n",
            "3068/3068 [==============================] - 24s 8ms/step - loss: 0.7427 - accuracy: 0.6930 - val_loss: 0.7129 - val_accuracy: 0.7030\n",
            "Epoch 11/20\n",
            "3068/3068 [==============================] - 22s 7ms/step - loss: 0.7419 - accuracy: 0.6933 - val_loss: 0.7307 - val_accuracy: 0.6987\n",
            "Epoch 12/20\n",
            "3068/3068 [==============================] - 22s 7ms/step - loss: 0.7415 - accuracy: 0.6930 - val_loss: 0.7126 - val_accuracy: 0.7031\n",
            "Epoch 13/20\n",
            "3068/3068 [==============================] - 24s 8ms/step - loss: 0.7405 - accuracy: 0.6934 - val_loss: 0.7144 - val_accuracy: 0.7026\n",
            "Epoch 14/20\n",
            "3068/3068 [==============================] - 23s 7ms/step - loss: 0.7400 - accuracy: 0.6940 - val_loss: 0.7194 - val_accuracy: 0.7032\n",
            "Epoch 15/20\n",
            "3068/3068 [==============================] - 22s 7ms/step - loss: 0.7392 - accuracy: 0.6941 - val_loss: 0.7198 - val_accuracy: 0.7034\n",
            "Epoch 16/20\n",
            "3068/3068 [==============================] - 23s 7ms/step - loss: 0.7383 - accuracy: 0.6935 - val_loss: 0.7162 - val_accuracy: 0.7036\n",
            "Epoch 17/20\n",
            "3068/3068 [==============================] - 22s 7ms/step - loss: 0.7381 - accuracy: 0.6944 - val_loss: 0.7161 - val_accuracy: 0.7041\n",
            "Epoch 18/20\n",
            "3068/3068 [==============================] - 23s 7ms/step - loss: 0.7385 - accuracy: 0.6936 - val_loss: 0.7143 - val_accuracy: 0.7039\n",
            "Epoch 19/20\n",
            "3068/3068 [==============================] - 23s 7ms/step - loss: 0.7396 - accuracy: 0.6935 - val_loss: 0.7209 - val_accuracy: 0.7039\n",
            "Epoch 20/20\n",
            "3068/3068 [==============================] - 21s 7ms/step - loss: 0.7389 - accuracy: 0.6934 - val_loss: 0.7115 - val_accuracy: 0.7018\n"
          ]
        },
        {
          "output_type": "execute_result",
          "data": {
            "text/plain": [
              "<keras.callbacks.History at 0x7f2a94468fa0>"
            ]
          },
          "metadata": {},
          "execution_count": 97
        }
      ]
    },
    {
      "cell_type": "markdown",
      "source": [
        "## Evaluate"
      ],
      "metadata": {
        "id": "HlYSeIglRjAw"
      }
    },
    {
      "cell_type": "code",
      "source": [
        "performance=model.evaluate(test_features,test_labels, batch_size=32, verbose=1, steps=None, )[1] * 100\n",
        "print('Final accuracy : ', round(performance), '%')"
      ],
      "metadata": {
        "colab": {
          "base_uri": "https://localhost:8080/"
        },
        "id": "fD51jOJsRoWr",
        "outputId": "9321f495-80af-4542-8325-d7fb3fea159e"
      },
      "execution_count": 98,
      "outputs": [
        {
          "output_type": "stream",
          "name": "stdout",
          "text": [
            "767/767 [==============================] - 2s 2ms/step - loss: 0.7115 - accuracy: 0.7018\n",
            "Final accuracy :  70 %\n"
          ]
        }
      ]
    },
    {
      "cell_type": "markdown",
      "source": [
        "## Converting model for microcontroller\n",
        "\n",
        "Tensorflow lite"
      ],
      "metadata": {
        "id": "XwLG-m6bSm_M"
      }
    },
    {
      "cell_type": "code",
      "source": [
        "converter = tf.lite.TFLiteConverter.from_keras_model(model) #create a converter\n",
        "tflite_model = converter.convert() #convert the model without quantization\n",
        "\n",
        "\n",
        "open(\"/content/model.tflite\",\"wb\").write(tflite_model) #Create a file containing our tflite model"
      ],
      "metadata": {
        "id": "_AmuJKvjSwTc"
      },
      "execution_count": null,
      "outputs": []
    },
    {
      "cell_type": "markdown",
      "source": [
        "Header (c++) file"
      ],
      "metadata": {
        "id": "Nb-3OYmMS8bX"
      }
    },
    {
      "cell_type": "code",
      "source": [
        "!apt-get install -qq xxd #installing the tool"
      ],
      "metadata": {
        "id": "-K3FUlpWS-JA"
      },
      "execution_count": 100,
      "outputs": []
    },
    {
      "cell_type": "code",
      "source": [
        "!echo \"const unsigned char model[] = {\" > /content/model.h\n",
        "!cat /content/model.tflite | xxd -i >> /content/model.h #create an hexadecimal array containing all our parameters\n",
        "!echo \"};\" >> /content/model.h\n",
        "\n",
        "files.download(\"/content/model.h\") #automaticly download your file"
      ],
      "metadata": {
        "colab": {
          "base_uri": "https://localhost:8080/",
          "height": 17
        },
        "id": "TF1Su027TAPT",
        "outputId": "13379191-ca96-4ba3-dff8-0f0873b31540"
      },
      "execution_count": 101,
      "outputs": [
        {
          "output_type": "display_data",
          "data": {
            "text/plain": [
              "<IPython.core.display.Javascript object>"
            ],
            "application/javascript": [
              "\n",
              "    async function download(id, filename, size) {\n",
              "      if (!google.colab.kernel.accessAllowed) {\n",
              "        return;\n",
              "      }\n",
              "      const div = document.createElement('div');\n",
              "      const label = document.createElement('label');\n",
              "      label.textContent = `Downloading \"${filename}\": `;\n",
              "      div.appendChild(label);\n",
              "      const progress = document.createElement('progress');\n",
              "      progress.max = size;\n",
              "      div.appendChild(progress);\n",
              "      document.body.appendChild(div);\n",
              "\n",
              "      const buffers = [];\n",
              "      let downloaded = 0;\n",
              "\n",
              "      const channel = await google.colab.kernel.comms.open(id);\n",
              "      // Send a message to notify the kernel that we're ready.\n",
              "      channel.send({})\n",
              "\n",
              "      for await (const message of channel.messages) {\n",
              "        // Send a message to notify the kernel that we're ready.\n",
              "        channel.send({})\n",
              "        if (message.buffers) {\n",
              "          for (const buffer of message.buffers) {\n",
              "            buffers.push(buffer);\n",
              "            downloaded += buffer.byteLength;\n",
              "            progress.value = downloaded;\n",
              "          }\n",
              "        }\n",
              "      }\n",
              "      const blob = new Blob(buffers, {type: 'application/binary'});\n",
              "      const a = document.createElement('a');\n",
              "      a.href = window.URL.createObjectURL(blob);\n",
              "      a.download = filename;\n",
              "      div.appendChild(a);\n",
              "      a.click();\n",
              "      div.remove();\n",
              "    }\n",
              "  "
            ]
          },
          "metadata": {}
        },
        {
          "output_type": "display_data",
          "data": {
            "text/plain": [
              "<IPython.core.display.Javascript object>"
            ],
            "application/javascript": [
              "download(\"download_2af62280-ff5e-4c68-adf8-1d08765adc78\", \"model.h\", 630934)"
            ]
          },
          "metadata": {}
        }
      ]
    }
  ],
  "metadata": {
    "kernelspec": {
      "display_name": "Python 3",
      "language": "python",
      "name": "python3"
    },
    "language_info": {
      "codemirror_mode": {
        "name": "ipython",
        "version": 3
      },
      "file_extension": ".py",
      "mimetype": "text/x-python",
      "name": "python",
      "nbconvert_exporter": "python",
      "pygments_lexer": "ipython3",
      "version": "3.11.3"
    },
    "orig_nbformat": 4,
    "colab": {
      "provenance": []
    }
  },
  "nbformat": 4,
  "nbformat_minor": 0
}